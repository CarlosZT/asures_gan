{
  "cells": [
    {
      "cell_type": "markdown",
      "metadata": {
        "id": "pRP_VbDS4hXL"
      },
      "source": [
        "## Filtro digital\n",
        "Este método permitirá implementar un filtro aplicable para restringir las bandas de frecuencias con las que se van a trabajar.\n",
        "En principio, se aplicará un filtro '*lowpass*' a los datos de entrada para evitar artefactos producidos por el Aliasing debido a componentes de alta frecuencia antes de realizar el remuestreo.\n",
        "En segunda instancia, se aplicará el filtro '*hipass*' para los datos objetivo con el fin de producir bandas de alta frecuencia a partir de la información proporcionada por los datos de entrada."
      ]
    },
    {
      "cell_type": "code",
      "execution_count": 331,
      "metadata": {
        "id": "ktCyf0Dv3Oya"
      },
      "outputs": [],
      "source": [
        "import scipy.signal as signal\n",
        "\n",
        "filter_order=8 #orden del filtro\n",
        "max_ripple=5 #Rizado máximo\n",
        "freq_sample=22050 #Frecuencia de muestreo\n",
        "filter_type='highpass' #Tipo de filtro\n",
        "\n",
        "def apply_filter_low(x, crit_freq):\n",
        "    sos = signal.cheby1(filter_order, max_ripple, crit_freq-1, 'lowpass', fs=freq_sample, output='sos')\n",
        "    return signal.sosfilt(sos, x)\n"
      ]
    },
    {
      "cell_type": "code",
      "execution_count": 332,
      "metadata": {
        "id": "NNBKbL34qW3g"
      },
      "outputs": [],
      "source": [
        "\n",
        "def apply_filter_high(x, crit_freq):\n",
        "    sos = signal.cheby1(filter_order, max_ripple, crit_freq, 'highpass', fs=freq_sample, output='sos')\n",
        "    return signal.sosfilt(sos, x)"
      ]
    },
    {
      "cell_type": "markdown",
      "metadata": {
        "id": "f0RD_uvh1Hww"
      },
      "source": [
        "## Carga de datos\n",
        "\n",
        "Dichas funciones se definieron para crear varios segmentos a partir de los datos de audio de un archivo."
      ]
    },
    {
      "cell_type": "code",
      "execution_count": 333,
      "metadata": {
        "id": "BFErInXS1IyX"
      },
      "outputs": [],
      "source": [
        "import numpy as np\n",
        "def check_div(data, div):\n",
        "  if data.shape[0] % div != 0:\n",
        "    data = np.append(data, np.zeros(div - data.shape[0] % div))\n",
        "  return data\n",
        "\n",
        "def load_data(path):\n",
        "  fs, data = wav.read(path)\n",
        "  if len(data.shape)>1:\n",
        "    if data.shape[1] > 1:\n",
        "      data = (data[:,0] + data[:,1]) / 2\n",
        "  data = data/np.max(np.abs(data))\n",
        "  data = np.clip(data, -1, 1)\n",
        "  return data.astype(np.float32), fs\n",
        "\n",
        "def process_data(data, seg_size, normalize=False):\n",
        "  data = check_div(data, seg_size)\n",
        "  num_batches = data.shape[0]//seg_size\n",
        "  if normalize:\n",
        "    data = (data + 1) / 2\n",
        "  data = np.reshape(data, newshape=(num_batches, seg_size, 1))\n",
        "  #nulls = np.ones_like(data)/2\n",
        "  #data = np.concatenate((data, nulls), axis=1)\n",
        "  return data\n",
        "\n",
        "def save_data(data, fs, name_file, normalize = False):\n",
        "  if len(data.shape)>1:\n",
        "    data = np.reshape(data, newshape=(data.shape[0]*data.shape[1],))\n",
        "  if normalize:\n",
        "    data = (data * 2) - 1\n",
        "  data = data.astype(np.float32)\n",
        "  wav.write(name_file, fs, data)"
      ]
    },
    {
      "cell_type": "code",
      "execution_count": 334,
      "metadata": {
        "colab": {
          "base_uri": "https://localhost:8080/"
        },
        "id": "yAtS5z_A3_gR",
        "outputId": "742097ef-0d59-42fb-e572-725050c2835c"
      },
      "outputs": [],
      "source": [
        "# from google.colab import drive\n",
        "# drive.mount('/content/drive')"
      ]
    },
    {
      "cell_type": "code",
      "execution_count": 335,
      "metadata": {
        "id": "0libWrQV20Xl"
      },
      "outputs": [],
      "source": [
        "num_resources = 100\n",
        "prefixes = ['blues',\n",
        "            'classical',\n",
        "            'country',\n",
        "            'disco',\n",
        "            'hiphop',\n",
        "            'jazz',\n",
        "            'metal',\n",
        "            'pop',\n",
        "            'reggae',\n",
        "            'rock']\n",
        "chunk_size = 4096\n",
        "path = 'dataset/'\n",
        "\n",
        "\n",
        "filters_size = 5\n"
      ]
    },
    {
      "cell_type": "markdown",
      "metadata": {
        "id": "8lSd8oSC6B-V"
      },
      "source": [
        "## Modelo generativo\n",
        "\n",
        "El modelo recibirá como entrada los datos con baja tasa de muestreo, se comprimirán a través del codificador automático y se reconstruirá una banda de alta frecuencia a partir del tensor del espacio latente."
      ]
    },
    {
      "cell_type": "code",
      "execution_count": 336,
      "metadata": {
        "id": "ADW4XNrO7nQF"
      },
      "outputs": [],
      "source": [
        "import tensorflow as tf\n",
        "import tensorflow.keras as keras\n",
        "from tensorflow.keras import Model, Sequential\n",
        "from tensorflow.python.ops.numpy_ops import np_config\n",
        "np_config.enable_numpy_behavior()"
      ]
    },
    {
      "cell_type": "markdown",
      "metadata": {
        "id": "qWghVnBKwec7"
      },
      "source": [
        "## Función Downsampling\n",
        "\n",
        "Genera bloques compuestos por capas de configuración: Conv1D - BatchNorm - ReLU.\n",
        "\n",
        "La configuración se inspira en la arquitectura Pix2Pix. Este diseño realiza una operación Convolucional (con un desplazamiento de 2 muestras para generar un tensor con la mitad del tamaño) sobre el tensor de entrada para obtener mapas de características, los cuales posteriormente son procesados por la capa BatchNormalization. Esta última se encarga de normalizar los valores que serán entregados a la función de activación, con la restricción de mantener la media en 0 y la desviación estándar en 1.\n",
        "\n",
        "La función de activación se encarga de aportar el componente de no-linearidad dentro de un dominio dado. En este caso, se opta por una capa ReLU, la cual proporciona una activación solo para valores mayores a 0.\n",
        "\n",
        "El inicializador de parámetros es una función que produce dentro de los tensores una distribución normal aleatoria de valores. Si bien, los Modelos, al definirse, son sistemas considerados en un estado de alta entropía, es importante que los parámetros se encuentren inicializados con cierta restricción. Esta medida se toma para garantizar que los pesos se ajustan gradualmente desde posiciones similares sin que exista más prioridad para unos que para otros desde un comienzo.\n",
        "\n"
      ]
    },
    {
      "cell_type": "code",
      "execution_count": 337,
      "metadata": {
        "id": "pic4h77UOZGF"
      },
      "outputs": [],
      "source": [
        "initializer = tf.random_normal_initializer(0., 0.1)\n",
        "def downsample(n_filters, size,  batchnorm=True):\n",
        "\n",
        "  result = tf.keras.Sequential()\n",
        "  result.add(\n",
        "      tf.keras.layers.Conv1D(filters=n_filters,\n",
        "                             kernel_size=(size,),\n",
        "                             strides=2,\n",
        "                             padding='same',\n",
        "                             kernel_initializer=initializer,\n",
        "                             use_bias = True\n",
        "                            ))\n",
        "  if batchnorm:\n",
        "    result.add(tf.keras.layers.BatchNormalization())\n",
        "\n",
        "  result.add(tf.keras.layers.LeakyReLU(0.2))\n",
        "\n",
        "  return result"
      ]
    },
    {
      "cell_type": "markdown",
      "metadata": {
        "id": "J4ldkRLj0SWU"
      },
      "source": [
        "## Función Upsampling\n",
        "\n",
        "Similar al bloque Downsampling, realiza una operación Convolucional traspuesta con un desplazamiento de dos muestras para producir tensores con el doble de tamaño.\n",
        "\n",
        "Este bloque incluye la opción de Dropout, implementada en el modelo Pix2Pix original, cuyo uso está destinado a evitar el sobre ajuste dentro de las capas del decodificador."
      ]
    },
    {
      "cell_type": "code",
      "execution_count": 338,
      "metadata": {
        "id": "dlW5FJIAOe3v"
      },
      "outputs": [],
      "source": [
        "def upsample(n_filters, size, dropout=False, batchnorm=True):\n",
        "\n",
        "  result = tf.keras.Sequential()\n",
        "  result.add(\n",
        "    tf.keras.layers.Conv1DTranspose(n_filters,\n",
        "                                    kernel_size=(size,),\n",
        "                                    strides=2,\n",
        "                                    padding='same',\n",
        "                                    kernel_initializer=initializer\n",
        "                                   ))\n",
        "\n",
        "  if batchnorm:\n",
        "    result.add(tf.keras.layers.BatchNormalization())\n",
        "\n",
        "  if dropout:\n",
        "      result.add(tf.keras.layers.Dropout(0.3))\n",
        "\n",
        "  result.add(tf.keras.layers.ReLU())\n",
        "\n",
        "  return result"
      ]
    },
    {
      "cell_type": "code",
      "execution_count": 339,
      "metadata": {
        "id": "ukb5DZB8Oij4"
      },
      "outputs": [],
      "source": [
        "\n",
        "class Generator(Model):\n",
        "  def __init__(self):\n",
        "    super(Generator, self).__init__()\n",
        "    self.oversampled = [\n",
        "      #downsample(64, filters_size),                  #i: 88200 Hz; o: 44100 Hz\n",
        "      downsample(64, filters_size),                   #i: 44100 Hz; o: 22050 Hz       \n",
        "    ]\n",
        "    \n",
        "    self.down_b=[          \n",
        "      downsample(64, filters_size),                         #i: 22050 Hz; o: 11025 Hz\n",
        "      downsample(32, filters_size),                         #i: 11025 Hz; o: 5512.5 Hz\n",
        "      downsample(32, filters_size),                          #i: 5512.5 Hz; o: 2756.25 Hz\n",
        "      downsample(16, filters_size),                          #i: 2756.25 Hz; o: 1378.125 Hz\n",
        "      \n",
        "    ]\n",
        "\n",
        "    self.up_b=[\n",
        "      upsample(32, filters_size),                           # i: 1378.125 Hz; o: 2756.25 Hz\n",
        "      upsample(32, filters_size),                          # i: 2756.25 Hz; o: 5512.5 Hz\n",
        "      upsample(64, filters_size),                          # i: 5512.5 Hz; o: 11025 Hz\n",
        "    ]\n",
        "\n",
        "    self.last = keras.Sequential()\n",
        "    self.merge = keras.Sequential()\n",
        "\n",
        "\n",
        "\n",
        "    self.merge = upsample(64, filters_size)  # i: 11025 Hz; o: 22050 Hz      \n",
        "\n",
        "    self.last.add(keras.layers.Conv1D(filters=1,\n",
        "                                      kernel_size=(filters_size,),\n",
        "                                      strides=1,\n",
        "                                      padding='same',\n",
        "                                      kernel_initializer=initializer,\n",
        "                                      activation='sigmoid'\n",
        "                                      ))\n",
        "  \n",
        "\n",
        "  def call(self, x):\n",
        "    skip_connections = []\n",
        "    x = self.oversampled[0](x)\n",
        "    #x = self.oversampled[1](x)\n",
        "    prior_info = x    \n",
        "    for down in self.down_b:\n",
        "      x = down(x)\n",
        "      skip_connections.append(x)\n",
        "    \n",
        "    skips = reversed(skip_connections[:-1])\n",
        "\n",
        "    for up, skip in zip(self.up_b, skips):\n",
        "      x = up(x)\n",
        "      x = keras.layers.Concatenate()([x, skip])\n",
        "\n",
        "    x = self.merge(x)\n",
        "    x = keras.layers.Concatenate()([x, prior_info])\n",
        "    x = self.last(x)\n",
        "    return x\n",
        "\n",
        "generator = Generator()"
      ]
    },
    {
      "cell_type": "code",
      "execution_count": 340,
      "metadata": {},
      "outputs": [],
      "source": [
        "def feature_map(n_filters, size,  batchnorm=True):\n",
        "\n",
        "  result = tf.keras.Sequential()\n",
        "  result.add(\n",
        "      tf.keras.layers.Conv1D(filters=n_filters,\n",
        "                             kernel_size=(size,),\n",
        "                             strides=1,\n",
        "                             padding='same',\n",
        "                             kernel_initializer=initializer\n",
        "                            ))\n",
        "  if batchnorm:\n",
        "    result.add(tf.keras.layers.BatchNormalization())\n",
        "\n",
        "  result.add(tf.keras.layers.LeakyReLU(0.3))\n",
        "\n",
        "  return result"
      ]
    },
    {
      "cell_type": "markdown",
      "metadata": {
        "id": "6K7zmevLeXlF"
      },
      "source": [
        "## Discriminador\n",
        "\n",
        "Se trata de un modelo convolucional que realizará operaciones de extracción de características con el objetivo de hacerlas converger en un vector denominado como '*parche*' (De ahí que estos modelos generativos se denominen de tipo PATCH-GAN). Su tensor de entrada se compone del resultado obtenido del generador, concatenado con el objetivo. Si el resultado del Generador se parece mucho al objetivo, entonces el Discriminador deberá generar, idealmente, un vector de 1's. En caso contrario, será un vector de 0's."
      ]
    },
    {
      "cell_type": "code",
      "execution_count": 341,
      "metadata": {
        "id": "NVFAWpaAfupZ"
      },
      "outputs": [],
      "source": [
        "class Discriminator(Model):\n",
        "  def __init__(self):\n",
        "    super(Discriminator, self).__init__()\n",
        "\n",
        "    self.down_b=[          \n",
        "      downsample(16, filters_size),                           #(8192, 32)\n",
        "      downsample(32, filters_size),                           #(4096, 64) \n",
        "      downsample(64, filters_size),                           #(2048, 128)\n",
        "      downsample(128, filters_size),                          #(1024, 256)\n",
        "      #feature_map(256, filters_size),                          #(512, 256)\n",
        "      #downsample(512, filters_size),                          #(256, 512)\n",
        "      #downsample(512, filters_size),                          #(128, 512)\n",
        "\n",
        "      keras.Sequential([keras.layers.Conv1D(filters=1,\n",
        "                                            kernel_size=(filters_size,),\n",
        "                                            strides=1,\n",
        "                                            padding='same',\n",
        "                                            kernel_initializer=initializer,\n",
        "                                            activation='sigmoid')])\n",
        "    ]\n",
        "\n",
        "\n",
        "  def call(self, x):\n",
        "    x = keras.layers.Concatenate()([x[0], x[1]])\n",
        "    for down in self.down_b:\n",
        "      x = down(x)\n",
        "      \n",
        "    return x\n",
        "\n",
        "discriminator = Discriminator()\n",
        "#discriminator = keras.models.load_model('Results/Models/discriminator.tf')"
      ]
    },
    {
      "cell_type": "markdown",
      "metadata": {
        "id": "ZXqcf6ybQCdB"
      },
      "source": [
        "## Funciones de coste\n",
        "\n",
        "La función de coste/pérdida se encarga de calcular el grado de error que produce el Modelo al comparar el resultado producido por este, respecto a un resultado objetivo o \"ideal\".\n",
        "\n",
        "La función de Error Absoluto Medio se aplica sobre la función de coste del Generador para aproximar el resultado predicho con el objetivo para evitar que el modelo intente reducir el error con resultados que disten del producto esperado.\n",
        "\n",
        "La función Entropía Cruzada Binaria describe la probabilidad de que un resultado sea catalogado como correcto o falso (1 o 0, respectivamente). Este se aplica sobre el resultado producido por el Discriminador, el cual genera un vector con una descripción abstracta de las regiones que más se parecen del resultado del generador al objetivo.\n",
        "\n",
        "Esta función se aplica de tres maneras distintas:\n",
        "1. Sobre el modelo generativo. Cuando el modelo generativo produce una salida, esta la envía al Discriminador junto con el objetivo para obtener el '*parche*' que describe la relación entre uno y otro (los valores del vector producido por el Discriminador se aproximarán a 1 si el resultado se parece al objetivo). En este caso, la función BCE(Entropía Cruzada Binaria, por sus siglas en inglés: Binary Cross Entropy), computará la pérdida que existe dado el resultado del discriminador y un tensor de 1's con la misma forma. El objetivo del generador es reducir dicha pérdida.\n",
        "\n",
        "2. Sobre el modelo discriminador. La segunda forma en que se aplica es ajustando el discriminador para producir vectores de unos cuando ambas entradas son muy parecidas o iguales. Para ello, se ingresa al discriminador dos veces el objetivo y la función BCE computa la pérdida con relación a un tensor de 1's, de esta forma se condiciona al Discriminador para evaluar como verdaderos aquellos vectores que se parezcan más al objetivo. Por otra parte, el Discriminador también tiene la tarea de adquirir un criterio estricto sobre las evaluaciones que realiza sobre los resultados que produce el generador. Por ello, la tercer forma en que se aplica esta función de pérdida es al ingresar el resultado del Generador acompañado del objetivo al Discriminador. En este caso, se condiciona al Discriminador para maximizar la pérdida del Generador y obligarle a realizar aproximaciones cada vez más acertadas al objetivo, por lo que la función de coste computará el resultado con respecto a un tensor de 0's.\n",
        "\n"
      ]
    },
    {
      "cell_type": "code",
      "execution_count": 342,
      "metadata": {
        "id": "aQmTBtf0V6oI"
      },
      "outputs": [],
      "source": [
        "bce = keras.losses.BinaryCrossentropy()\n",
        "mae = keras.losses.MeanAbsoluteError()\n",
        "\n",
        "\n",
        "ALPHA = 150 #Penalización MSE\n",
        "\n",
        "def gen_loss(disc_out, gen_out, gen_target):\n",
        "\n",
        "  l_disc = bce(tf.ones_like(disc_out), disc_out)\n",
        "  l_gen = mae(gen_target, gen_out)\n",
        "\n",
        "  return l_disc, l_gen * ALPHA\n"
      ]
    },
    {
      "cell_type": "code",
      "execution_count": 343,
      "metadata": {
        "id": "Je0gI5jYdcYG"
      },
      "outputs": [],
      "source": [
        "BETA = 3 #Penalización para BCE\n",
        "def disc_loss(disc_out, disc_target):\n",
        "  l_target = bce(tf.ones_like(disc_target), disc_target)\n",
        "  l_real = bce(tf.zeros_like(disc_out), disc_out)\n",
        "\n",
        "  return l_target, l_real"
      ]
    },
    {
      "cell_type": "markdown",
      "metadata": {
        "id": "8mDiE3CzgnGl"
      },
      "source": [
        "## Optimizadores\n",
        "\n",
        "Son funciones encargadas de realizar el proceso de actualización de las variables entrenables dentro de los modelos. Para los procesos de optimización se utilizó el algoritmo Adam, el cual proporciona una estimación adaptativa para el cálculo de los gradientes. Esto permite que el algoritmo evite estancamientos en mínimos locales de la función de coste.\n",
        "\n",
        "Se crearon dos optimizadores, cada uno encargado de actualizar los pesos de los modelos Generador y Discriminador respectivamente."
      ]
    },
    {
      "cell_type": "code",
      "execution_count": 344,
      "metadata": {
        "id": "SpgSGnereJ9e"
      },
      "outputs": [],
      "source": [
        "g_optim = keras.optimizers.Adam(4e-4)\n",
        "d_optim = keras.optimizers.Adam(2e-4)"
      ]
    },
    {
      "cell_type": "markdown",
      "metadata": {
        "id": "meRYtXLqiklG"
      },
      "source": [
        "## Función de ajustes\n",
        "\n",
        "Se encarga de evaluar los modelos, llamar las funciones de coste para obtener los valores de pérdida, computar y aplicar los gradientes a los pesos de los modelos."
      ]
    },
    {
      "cell_type": "code",
      "execution_count": 345,
      "metadata": {
        "id": "bSMnE2kzifAh"
      },
      "outputs": [],
      "source": [
        "finish_train = False\n",
        "min_gen = 0.5\n",
        "\n",
        "def train_step(input, target):\n",
        "  with tf.GradientTape() as gen_tape, tf.GradientTape() as disc_tape:\n",
        "    \n",
        "\n",
        "    gen_output = generator(input, training=True)\n",
        "\n",
        "    disc_target = discriminator([target, target], training=True)\n",
        "\n",
        "    disc_out = discriminator([gen_output, target], training=True)\n",
        "\n",
        "    generator_losses = gen_loss(disc_out, gen_output, target)\n",
        "\n",
        "    discriminator_losses = disc_loss(disc_out, disc_target)\n",
        "\n",
        "    disc_total = discriminator_losses[0] + discriminator_losses[1]\n",
        "\n",
        "    gen_total = generator_losses[0] + generator_losses[1]  \n",
        "\n",
        "    \n",
        "  gen_gradients = gen_tape.gradient(gen_total, generator.trainable_variables)\n",
        "\n",
        "  disc_gradients = disc_tape.gradient(disc_total, discriminator.trainable_variables)\n",
        "\n",
        "  g_optim.apply_gradients(zip(gen_gradients, generator.trainable_variables))\n",
        "\n",
        "  d_optim.apply_gradients(zip(disc_gradients, discriminator.trainable_variables))\n",
        "\n",
        "\n",
        "  return generator_losses, discriminator_losses"
      ]
    },
    {
      "cell_type": "markdown",
      "metadata": {
        "id": "KKf0Fl1Ckq5p"
      },
      "source": [
        "## Función generadora de señales\n",
        "Se implementó únicamente como elemento demostrativo del progreso de entrenamiento, pruebas preliminares y exponer resultados.\n",
        "Por cuestiones de precisión, elespectrograma abarca el segmento completo de la señal, mientras que la función solo una porción para observarla con mayor detalle."
      ]
    },
    {
      "cell_type": "code",
      "execution_count": 346,
      "metadata": {
        "id": "huM3s8ZtJvkJ"
      },
      "outputs": [],
      "source": [
        "from scipy.signal import stft\n",
        "import matplotlib.pyplot as plt\n",
        "def generate_signal(test_input, test_target, status=False):\n",
        "  test_input = test_input[tf.newaxis, ...] #16384\n",
        "  target = test_target[tf.newaxis,...]  #8192\n",
        "\n",
        "  prediction = generator(test_input, training=status)#8192\n",
        "  # seg = prediction.shape[1]//32 \n",
        "  plt.figure(figsize=(16, 4))\n",
        "\n",
        "  # stft_input = stft(test_input[0,:,0], 22050*4, nperseg=seg*4)\n",
        "  # stft_target = stft(target[0,:,0], 22050, nperseg=seg)\n",
        "  # stft_predicted = stft(prediction[0,:,0], 22050, nperseg=seg)\n",
        "  \n",
        "  # stft_list = [stft_input[2], stft_target[2], stft_predicted[2]]\n",
        "  signal_list = [test_input[0], target[0], prediction[0]]\n",
        "  title = ['Input Signal', 'Target Signal', 'Predicted Signal']\n",
        "  color = ['b', 'g', 'r']\n",
        "\n",
        "\n",
        "  for i in range(3):\n",
        "    plt.subplot(1, 3, i+1)\n",
        "    plt.title(title[i])\n",
        "    plt.plot(signal_list[i][:signal_list[i].shape[0]//8], color[i])\n",
        "\n",
        "  # plt.subplot(2, 3, 4)\n",
        "  # plt.pcolormesh(stft_input[1], stft_input[0], np.abs(stft_input[2]), shading='nearest')\n",
        "  # plt.ylim((0, (2*11025)/3))\n",
        "\n",
        "  # for i in range(4,6):\n",
        "  #   plt.subplot(2, 3, i+1)\n",
        "  #   plt.pcolormesh(stft_target[1], stft_target[0], np.abs(stft_list[i-3]), shading='nearest')\n",
        "  #   #plt.axis('off')\n",
        "  plt.show()"
      ]
    },
    {
      "cell_type": "markdown",
      "metadata": {
        "id": "OWQpsLLPlJD8"
      },
      "source": [
        "## Históricos\n",
        "\n",
        "Función encargada de imprimir las métricas obtenidas de cada una de las funciones de pérdida con el objetivo de monitorizar el progreso del modelo en general, realizar anotaciones sobre los comportamientos observados y aplicar mejoras.\n",
        "La ventana de los históricos está limitada a 200 pasos."
      ]
    },
    {
      "cell_type": "code",
      "execution_count": 347,
      "metadata": {
        "id": "TB2HQYkHEmt6"
      },
      "outputs": [],
      "source": [
        "g_mae = []\n",
        "g_bce = []\n",
        "d_real = []\n",
        "d_target = []\n",
        "v_steps = []\n",
        "\n",
        "def plot_historics(gen_, disc_, step, window):\n",
        "  g_mae.append(gen_[1].numpy())\n",
        "  g_bce.append(gen_[0].numpy())\n",
        "\n",
        "  d_real.append(disc_[1].numpy())\n",
        "  d_target.append(disc_[0].numpy())\n",
        "\n",
        "  v_steps.append(step)\n",
        "\n",
        "  if len(g_mae) > window//2:\n",
        "    v_steps.pop(0)\n",
        "    g_mae.pop(0)\n",
        "    g_bce.pop(0)\n",
        "    d_real.pop(0)\n",
        "    d_target.pop(0)\n",
        "\n",
        "  g_total = np.array(g_mae) + np.array(g_bce)\n",
        "  d_total = np.array(d_real) + np.array(d_target)\n",
        "\n",
        "    \n",
        "  historics = [g_mae, g_bce, g_total, d_real, d_target, d_total]\n",
        "  title = ['Generator: MSE', 'Generator: BCE', 'Generator: Total','Discriminator: Real', 'Discriminator: Target', 'Discriminator: Total']\n",
        "  color = ['b', 'g', 'r', 'c', 'm', 'y']\n",
        "\n",
        "    \n",
        "  plt.figure(figsize=(16, 4))\n",
        "  for i in range(6):\n",
        "      plt.subplot(2, 3, i+1)\n",
        "      plt.plot(v_steps, historics[i], color[i], label=title[i])\n",
        "      plt.legend(loc='best')\n",
        "  plt.show()"
      ]
    },
    {
      "cell_type": "code",
      "execution_count": 348,
      "metadata": {
        "id": "AuZYHJ8pQpf8"
      },
      "outputs": [],
      "source": [
        "def clear_historics(h):\n",
        "  for i in range(len(h)):\n",
        "    h[i] = []\n",
        "  return h"
      ]
    },
    {
      "cell_type": "markdown",
      "metadata": {
        "id": "qTWtu1cwlk3i"
      },
      "source": [
        "## Función de entrenamiento\n",
        "\n",
        "Llama al grupo de funciones necesarias para llevar a acabo el entrenamiento, así como muestra los distintos gráficos y métricas.\n",
        "Cada n pasos intercambia el segmento de señal demostrativa para ilustrar el progreso de entrenamiento.\n"
      ]
    },
    {
      "cell_type": "code",
      "execution_count": 349,
      "metadata": {
        "id": "j7jGz_V8lKDR"
      },
      "outputs": [],
      "source": [
        "from sklearn.utils import shuffle\n",
        "def fit(input, target, inp_test, tg_test, batch):\n",
        "  b_size = 40\n",
        "  iterations = input.shape[0]//b_size\n",
        "  step = 0\n",
        "  n_s = 0\n",
        "\n",
        "  for i in range(iterations):\n",
        "\n",
        "    g_loss, d_loss = train_step(input[i*b_size:(i+1)*b_size], target[i*b_size:(i+1)*b_size])\n",
        "\n",
        "    if i % 10 == 0:\n",
        "\n",
        "      display.clear_output(wait=True)\n",
        "      generate_signal(inp_test[n_s], tg_test[n_s], status=True)\n",
        "      plot_historics(g_loss, d_loss, step, window=200)\n",
        "      print(f'Batch: {batch} -- Step: {i+1}/{iterations} || Gen [MAE: {g_loss[1]} -- BCE {g_loss[0]}] || Dis [Target: {d_loss[0]} -- Real: {d_loss[1]}]')\n",
        "\n",
        "    if i % 60 == 0:\n",
        "      n_s += 1\n",
        "    step += 1\n",
        "\n",
        "\n",
        "\n"
      ]
    },
    {
      "cell_type": "markdown",
      "metadata": {
        "id": "kgtNhyXDmNqK"
      },
      "source": [
        "## Preprocesamiento\n",
        "\n",
        "En esta función se aplica el filtro pasa-bajas a las señales de audio y el efecto de remuestreo para preparar los datos de entrenamiento.\n",
        "En este ejemplo, se pretende realizar un escalamiento de x4."
      ]
    },
    {
      "cell_type": "code",
      "execution_count": 350,
      "metadata": {
        "id": "e26e1w3ArRGh"
      },
      "outputs": [],
      "source": [
        "scaling=4\n",
        "freq_sample=22050\n",
        "critical_freq=freq_sample/(2*scaling)\n",
        "\n",
        "def preprocessing(x):\n",
        "  filtered = apply_filter_low(x, 11025/2)\n",
        "  resampled = signal.resample(filtered, int(len(x)//2))\n",
        "  resampled = signal.resample(resampled, 2*int(len(x)))\n",
        "  return resampled\n",
        "\n",
        "\n"
      ]
    },
    {
      "cell_type": "markdown",
      "metadata": {
        "id": "3KReyohamjba"
      },
      "source": [
        "## Definición de nombres\n",
        "\n",
        "Crea un arreglo que recopila los nombres de los archivos necesarios para crear un lote de entrenamiento."
      ]
    },
    {
      "cell_type": "code",
      "execution_count": 351,
      "metadata": {
        "id": "QjgbTRnydxXj"
      },
      "outputs": [],
      "source": [
        "def define_names(since, to):\n",
        "  \n",
        "  names = []\n",
        "  for prefix in prefixes:\n",
        "    for n in range(since, to):\n",
        "      if n < 10:\n",
        "        number = '0' + str(n)\n",
        "      else: \n",
        "        number = str(n)\n",
        "      print(f'Registered: {prefix}.000{number}.wav')\n",
        "      names.append(f'{prefix}.000{number}.wav')\n",
        "  return names"
      ]
    },
    {
      "cell_type": "markdown",
      "metadata": {
        "id": "ADMq_h7ymhbm"
      },
      "source": [
        "## Inicializador de datos\n",
        "\n",
        "Se encarga de calcular el tamaño del lote en base al número de lotes solicitados. Carga los archivos de audio definidos en la función anterior, preprocesa el grupo de baja resolución y divide el lote en proporción 80:20 para los grupos entrenamiento y verificación, respectivamente."
      ]
    },
    {
      "cell_type": "code",
      "execution_count": 352,
      "metadata": {
        "id": "Mqw-CtV7_IrK"
      },
      "outputs": [],
      "source": [
        "from scipy.io import wavfile as wav\n",
        "from IPython import display\n",
        "\n",
        "num_batches = 25\n",
        "load_size = num_resources//num_batches\n",
        "\n",
        "fs = 22050\n",
        "reason = 0.8\n",
        "\n",
        "x_target = None\n",
        "x_train = None\n",
        "x_test = None\n",
        "x_test_target = None\n",
        "\n",
        "\n",
        "def init_data(names):\n",
        "\n",
        "  x_target = []\n",
        "  x_train = []\n",
        "\n",
        "  for index, name in enumerate(names):\n",
        "    display.clear_output(wait=True)\n",
        "    print(f'Loading: {name} -- {index + 1}/{len(names)}')\n",
        "\n",
        "    data_high, fs = load_data(path + name)\n",
        "\n",
        " \n",
        "\n",
        "    data_low = preprocessing(data_high) \n",
        "\n",
        "    high_batch = process_data(data_high, seg_size=chunk_size, normalize=True)\n",
        "\n",
        "    low_batch = process_data(data_low, seg_size=chunk_size*2, normalize=True)\n",
        "\n",
        "    for high, low in zip(high_batch, low_batch):\n",
        "      x_target.append(high)\n",
        "      x_train.append(low)\n",
        "\n",
        "  x_target = np.array(x_target)\n",
        "  x_train = np.array(x_train)\n",
        "\n",
        "\n",
        "  x_test = x_train[int(x_train.shape[0] * reason):]\n",
        "  x_test_target = x_target[int(x_target.shape[0] * reason):]\n",
        "\n",
        "  x_target = x_target[:int(x_target.shape[0] * reason)]\n",
        "  x_train = x_train[:int(x_train.shape[0] * reason)]\n",
        "\n",
        "\n",
        "  x_test, x_test_target = shuffle(x_test, x_test_target)\n",
        "  x_train, x_target = shuffle(x_train, x_target)\n",
        "\n",
        "  print(f'Train {x_train.shape}')\n",
        "  print(f'Target {x_target.shape}')\n",
        "  print(f'Train_test {x_test.shape}')\n",
        "  print(f'Target_test {x_test_target.shape}')\n",
        "  \n",
        "  return x_train, x_target, x_test, x_test_target"
      ]
    },
    {
      "cell_type": "markdown",
      "metadata": {
        "id": "D4uxupyDnPAV"
      },
      "source": [
        "## Loop principal\n",
        "\n",
        "Este ciclo itera sobre el número de lotes que se haya definido. Obtiene la lista de nombres de los archivos, genera los datos y ejecuta la función para aplicar la secuencia de entrenamiento. Este proceso se repite tantas veces como lotes se hayan definido para evitar que se agote la memoria disponible en la GPU."
      ]
    },
    {
      "cell_type": "code",
      "execution_count": 353,
      "metadata": {
        "colab": {
          "base_uri": "https://localhost:8080/",
          "height": 655
        },
        "id": "jHZLS5fJCX_P",
        "outputId": "7f80308a-af06-4d0b-eb7a-7c671abbfca9"
      },
      "outputs": [
        {
          "data": {
            "image/png": "[encoded data removed]",
            "text/plain": [
              "<Figure size 1152x288 with 3 Axes>"
            ]
          },
          "metadata": {
            "needs_background": "light"
          },
          "output_type": "display_data"
        },
        {
          "data": {
            "image/png": "[encoded data removed]",
            "text/plain": [
              "<Figure size 1152x288 with 6 Axes>"
            ]
          },
          "metadata": {
            "needs_background": "light"
          },
          "output_type": "display_data"
        },
        {
          "name": "stdout",
          "output_type": "stream",
          "text": [
            "Batch: 24 -- Step: 121/129 || Gen [MAE: 1.7378538846969604 -- BCE 8.442678451538086] || Dis [Target: 0.00043023150647059083 -- Real: 0.0004682034195866436]\n"
          ]
        }
      ],
      "source": [
        "\n",
        "for i in range(num_batches):\n",
        "  g_mae, g_bce, d_real, d_target, v_steps = clear_historics([g_mae, g_bce, d_real, d_target, v_steps])\n",
        "  names = define_names((i*load_size), ((i+1)*load_size))\n",
        "  x_train, x_target, x_test, x_test_target = init_data(names)\n",
        "  fit(x_train, x_target, x_test, x_test_target, i)\n"
      ]
    },
    {
      "cell_type": "code",
      "execution_count": 354,
      "metadata": {},
      "outputs": [
        {
          "name": "stdout",
          "output_type": "stream",
          "text": [
            "INFO:tensorflow:Assets written to: Results/Models/generator_4.tf\\assets\n",
            "INFO:tensorflow:Assets written to: Results/Models/discriminator_4.tf\\assets\n"
          ]
        }
      ],
      "source": [
        "generator.save('Results/Models/generator_4.tf', save_format='tf')\n",
        "discriminator.save('Results/Models/discriminator_4.tf', save_format='tf')"
      ]
    },
    {
      "cell_type": "code",
      "execution_count": null,
      "metadata": {},
      "outputs": [],
      "source": []
    }
  ],
  "metadata": {
    "accelerator": "GPU",
    "colab": {
      "collapsed_sections": [],
      "name": "011_gan_lpf.ipynb",
      "provenance": []
    },
    "kernelspec": {
      "display_name": "Python 3",
      "name": "python3"
    },
    "language_info": {
      "codemirror_mode": {
        "name": "ipython",
        "version": 3
      },
      "file_extension": ".py",
      "mimetype": "text/x-python",
      "name": "python",
      "nbconvert_exporter": "python",
      "pygments_lexer": "ipython3",
      "version": "3.9.7"
    }
  },
  "nbformat": 4,
  "nbformat_minor": 0
}
